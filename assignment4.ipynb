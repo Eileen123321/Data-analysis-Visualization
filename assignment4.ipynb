{
 "cells": [
  {
   "cell_type": "markdown",
   "metadata": {},
   "source": [
    "# Assignment 4 Build Models using Linear Regression\n",
    "\n",
    "## Learning Objectives \n",
    "\n",
    "* Identify linear regression algorithm \n",
    "* Identify how linear regression can be used when working with data\n",
    "* Apply linear regression to build data models\n",
    "* Evaluate and communicate analysis results by applying linear regression to learn from data"
   ]
  },
  {
   "cell_type": "markdown",
   "metadata": {},
   "source": [
    "## Overview\n",
    "\n",
    "In this assignment, you will examine how to use regressions to analyze data.  In particular, you will approach several problems using a data set that represents bluegill data instances randomly sampled from Lake Mary in Minnesota.  The researchers (Cook and Weisberg, 1999) measured and recorded the data in the file (fish.txt).  You will use regression analysis to build models to conduct predictions. You are required to use **polyfit** and **polyval** in numpy library as we learned in the lectures. **If you use any other libries, your solutions will not get any points.**  \n",
    "\n",
    "For this assignment, you will need to include markup and code cells in this notebook so that you can address questions based on the plots generated from the different problems. In your submitted document, you need to include the created visualization plots by running your code in the notebook. Even if you believe your plots are wrong, you stil need to answer the question according to your plots/code and thoughts, and you can include an explanation of what you think should have happened. Make sure you answer the questions in full sentences.\n"
   ]
  },
  {
   "cell_type": "markdown",
   "metadata": {},
   "source": [
    "## Problem 1\n",
    "\n",
    "You should plot the data in the data file (fish.txt). Your plot should plot y, length (in mm) of the fish, versus x, age (in years) of the fish, as markers. \n"
   ]
  },
  {
   "cell_type": "markdown",
   "metadata": {},
   "source": [
    "## Problem 2\n",
    "\n",
    "You need to address the question: how is the length of a bluegill fish (dependent variable) related to its age (independent variable)? Given the data points you have, you need to build three models: a line model, a perabela model, and a cubic model using the **polyfit** function in the numpy library. When making predications using a model resulted by polyfit, you are required to use **polyval**. For each of the three regression models you build, you need to compute the R-squared value for the model and plot the data along with the fit curve.\n",
    "\n",
    "For the plots, you should plot data points (x,y) as blue dots and your fit curves (aka models) as colorful lines in a figure. You should also label the plot axes appropriately and have a title and legends reporting information of your regression models and R-square values evaluated on the given data points. "
   ]
  },
  {
   "cell_type": "markdown",
   "metadata": {},
   "source": [
    "## Problem 3\n",
    "\n",
    "You need to address the question: \n",
    "\n",
    "what is the length of a randomly selected five-year-old bluegill fish? \n",
    "\n",
    "Note that this question should be addressed based on a chosen model you built in problem 2's solution. You should use the model to make a prediction on the length based on the age. You need to include code you used to come up the answer when addressing this question."
   ]
  },
  {
   "cell_type": "markdown",
   "metadata": {},
   "source": [
    "## Problem 4\n",
    "\n",
    "You need to address the question: how is the length of a bluegill fish (dependent variable) related to its age (independent variable)? For this problem, you need to apply **cross validation** to build, evaluate, and decide the a model that fits the data points.  For the regression model you choose, you need to compute the R-squared value(s) to support your model choice. \n",
    "\n",
    "For the plot, you should plot data points (x,y) as blue dots and your best fit curve (aka model) as a red solid line. You should also label the axes of this figure appropriately and have a title reporting information including degree of your regression model and R-square values of your model evaluated on the given data points. \n",
    "\n"
   ]
  },
  {
   "cell_type": "markdown",
   "metadata": {},
   "source": [
    "## Problem 5\n",
    "First, you need to address the question: \n",
    "\n",
    "how is the length of a bluegill fish (dependent variable) related to its age (independent variable)? \n",
    "\n",
    "For this problem, you are still required to apply cross validation to build, evaluate, and decide the a model that fits the data points.  To evaluate your models, however, you need to compute the **Root Mean Square Error(RMSE)**, which computation is given below. \n",
    "\n",
    "RMSE provides a way to measure the error of a model in predicting quantitative data. \n",
    "\n",
    "Secondly, you need to address the below questions:\n",
    "\n",
    "What is the choice of the model based on your evaluation using RMSE? Is it same or different from the model you chose in Problem 4? And how do you think about the chosen model(s) based on your evaluations?\n",
    "\n",
    "The below code cell provides a definition of RMSE in Python. You can just apply it in your code. "
   ]
  },
  {
   "cell_type": "code",
   "execution_count": 1,
   "metadata": {},
   "outputs": [],
   "source": [
    "def rmse(y, estimated):\n",
    "    \"\"\"\n",
    "    Calculate the root mean square error term.\n",
    "\n",
    "    Args:\n",
    "        y: an 1-d numpy array with length N, representing the y-coordinates of\n",
    "            the N sample points\n",
    "        estimated: an 1-d numpy array of values estimated by the regression\n",
    "            model\n",
    "\n",
    "    Returns:\n",
    "        a float for the root mean square error term\n",
    "    \"\"\"\n",
    "    #do not change\n",
    "    return np.sqrt(sum((y-estimated)**2)/len(y))\n",
    "\n"
   ]
  },
  {
   "cell_type": "markdown",
   "metadata": {},
   "source": [
    "# Turn-in\n",
    "You need to turn in at least two files for your submission:\n",
    "\n",
    "* Your notebook file that contains the code and presentation. You need to run all you cells and present the results in the notebook document.\n",
    "* The data file you used to build models. \n",
    "* Any other supplementary documents you want to submit to D2L Assignments folder \n",
    "\n",
    "You need to package the files into a zip archive and upload the zip file to D2L assignment folder <b>Assignment 4</b>\n",
    "\n"
   ]
  }
 ],
 "metadata": {
  "kernelspec": {
   "display_name": "Python 3 (ipykernel)",
   "language": "python",
   "name": "python3"
  },
  "language_info": {
   "codemirror_mode": {
    "name": "ipython",
    "version": 3
   },
   "file_extension": ".py",
   "mimetype": "text/x-python",
   "name": "python",
   "nbconvert_exporter": "python",
   "pygments_lexer": "ipython3",
   "version": "3.8.5"
  }
 },
 "nbformat": 4,
 "nbformat_minor": 2
}
